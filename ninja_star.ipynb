{
 "cells": [
  {
   "cell_type": "markdown",
   "id": "cd2285c1-867c-4d8a-96e4-b6d567d93c16",
   "metadata": {},
   "source": [
    "# Ninja Star"
   ]
  },
  {
   "cell_type": "code",
   "execution_count": null,
   "id": "ea253302-81d4-464e-a2f2-de137667a9a2",
   "metadata": {
    "tags": []
   },
   "outputs": [],
   "source": [
    "import pandas as pd\n",
    "\n",
    "df = pd.read_csv(\"data/coordinates.csv\")\n",
    "\n",
    "df"
   ]
  },
  {
   "cell_type": "markdown",
   "id": "cce0c515-b77f-466c-a291-db319736b568",
   "metadata": {},
   "source": [
    "## Determine Center"
   ]
  },
  {
   "cell_type": "code",
   "execution_count": null,
   "id": "0cfb79be-ba49-46a2-9e8f-63b8a36aaca9",
   "metadata": {
    "tags": []
   },
   "outputs": [],
   "source": [
    "x_mean, y_mean = df[\"x\"].mean(), df[\"y\"].mean()"
   ]
  },
  {
   "cell_type": "code",
   "execution_count": null,
   "id": "dbaeff2c-c7c3-4246-9c21-c889ae6696be",
   "metadata": {
    "tags": []
   },
   "outputs": [],
   "source": [
    "x_mean, y_mean"
   ]
  },
  {
   "cell_type": "markdown",
   "id": "1940495f-576a-40f9-b1f6-b7e4dfac8cf8",
   "metadata": {},
   "source": [
    "## Average Identical Points"
   ]
  },
  {
   "cell_type": "code",
   "execution_count": null,
   "id": "ab8f4192-cdf6-4c82-9950-d536e68bab73",
   "metadata": {
    "tags": []
   },
   "outputs": [],
   "source": [
    "df[\"x_center\"] = df[\"x\"] - x_mean\n",
    "df[\"y_center\"] = df[\"y\"] - y_mean"
   ]
  },
  {
   "cell_type": "code",
   "execution_count": null,
   "id": "845c92c4-5907-45cc-98f7-ff2339921acd",
   "metadata": {
    "tags": []
   },
   "outputs": [],
   "source": [
    "df"
   ]
  },
  {
   "cell_type": "code",
   "execution_count": null,
   "id": "ac4814c4-349c-49f9-90b3-3895311e4703",
   "metadata": {
    "tags": []
   },
   "outputs": [],
   "source": [
    "from itertools import groupby\n",
    "\n",
    "x_col, y_col = [], []\n",
    "for i, row in df.iterrows():\n",
    "    x, y = row[\"x_center\"], row[\"y_center\"]\n",
    "    while x < 0.0 or y < 0.0:\n",
    "        x, y = -y, x\n",
    "    x_col.append(x)\n",
    "    y_col.append(y)"
   ]
  },
  {
   "cell_type": "code",
   "execution_count": null,
   "id": "f0c8582a-e279-44aa-885d-104150bfa7bf",
   "metadata": {
    "tags": []
   },
   "outputs": [],
   "source": [
    "df[\"x_center_1st\"] = x_col\n",
    "df[\"y_center_1st\"] = y_col"
   ]
  },
  {
   "cell_type": "code",
   "execution_count": null,
   "id": "00cbdc44-7af4-4bf0-b3ec-7f9f0c199427",
   "metadata": {
    "tags": []
   },
   "outputs": [],
   "source": [
    "df"
   ]
  },
  {
   "cell_type": "code",
   "execution_count": null,
   "id": "1d09a222-3452-4a34-b93b-61f6f4389b64",
   "metadata": {
    "tags": []
   },
   "outputs": [],
   "source": [
    "import numpy as np\n",
    "\n",
    "df_avg = df.groupby(\"group_id\").agg({\"x_center_1st\": np.mean, \"y_center_1st\": np.mean})"
   ]
  },
  {
   "cell_type": "code",
   "execution_count": null,
   "id": "589e99be-0a88-4ae1-b2b2-93f42464be56",
   "metadata": {
    "tags": []
   },
   "outputs": [],
   "source": [
    "from itertools import groupby\n",
    "import numpy as np\n",
    "\n",
    "x_col, y_col = [], []\n",
    "for i, row in df.iterrows():\n",
    "    x, y = df_avg.loc[row[\"group_id\"]]\n",
    "    while np.sign(row[\"x_center\"]) != np.sign(x) or np.sign(row[\"y_center\"]) != np.sign(\n",
    "        y\n",
    "    ):\n",
    "        x, y = -y, x\n",
    "    x_col.append(x)\n",
    "    y_col.append(y)"
   ]
  },
  {
   "cell_type": "code",
   "execution_count": null,
   "id": "bf1ac02d-0977-40a4-a61d-9b44fa5890b1",
   "metadata": {
    "tags": []
   },
   "outputs": [],
   "source": [
    "df[\"x_avg_center\"] = x_col\n",
    "df[\"y_avg_center\"] = y_col"
   ]
  },
  {
   "cell_type": "code",
   "execution_count": null,
   "id": "a0a2b121-6c84-43b3-a7a8-c576d6c66de3",
   "metadata": {
    "tags": []
   },
   "outputs": [],
   "source": [
    "df[\"x_avg\"] = df[\"x_avg_center\"] + x_mean\n",
    "df[\"y_avg\"] = df[\"y_avg_center\"] + y_mean"
   ]
  },
  {
   "cell_type": "code",
   "execution_count": null,
   "id": "b29c6ebc-011f-4d9b-bf98-25fa530a5cce",
   "metadata": {
    "tags": []
   },
   "outputs": [],
   "source": [
    "df"
   ]
  },
  {
   "cell_type": "markdown",
   "id": "a62036fd-f1b3-47a2-8387-73bd14d68307",
   "metadata": {},
   "source": [
    "## Align Points"
   ]
  },
  {
   "cell_type": "code",
   "execution_count": null,
   "id": "d569210b-878c-4ae6-8f1d-d631bace42f0",
   "metadata": {
    "tags": []
   },
   "outputs": [],
   "source": [
    "import numpy as np\n",
    "from sklearn.linear_model import LinearRegression\n",
    "from typing import Iterable, Tuple\n",
    "\n",
    "\n",
    "def regression(df, indexes: Iterable[int]) -> Tuple[float, float]:\n",
    "    x, y = [], []\n",
    "    for i in indexes:\n",
    "        x.append(\n",
    "            [\n",
    "                df.loc[i][\"x_avg\"],\n",
    "            ]\n",
    "        )\n",
    "        y.append(df.loc[i][\"y_avg\"])\n",
    "\n",
    "    reg = LinearRegression().fit(x, y)\n",
    "    return reg.coef_[0], reg.intercept_\n",
    "\n",
    "\n",
    "def intersection(m1: float, c1: float, m2: float, c2: float) -> Tuple[float, float]:\n",
    "    x = (c2 - c1) / (m1 - m2)\n",
    "    y = m1 * x + c1\n",
    "    return x, y\n",
    "\n",
    "\n",
    "def get_intersection(\n",
    "    df, index_1: Iterable[int], index_2: Iterable[int]\n",
    ") -> Tuple[float, float]:\n",
    "    m1, c1 = regression(df, index_1)\n",
    "    m2, c2 = regression(df, index_2)\n",
    "\n",
    "    return intersection(m1, c1, m2, c2)"
   ]
  },
  {
   "cell_type": "code",
   "execution_count": null,
   "id": "9ff1ebfd-e24a-41d6-b96d-642d80165f01",
   "metadata": {
    "tags": []
   },
   "outputs": [],
   "source": [
    "lines = (\n",
    "    ((14, 15), (14, 13, 45, 46)),\n",
    "    ((48, 38, 36, 52, 24, 27, 63, 67), (14, 13, 45, 46)),\n",
    "    ((24, 25), (48, 38, 36, 52, 24, 27, 63, 67)),\n",
    "    ((24, 25), (25, 26)),\n",
    "    # ((25,26), (16,19))  # overshoot\n",
    "    ((63, 64), (16, 19)),\n",
    "    ((16, 19), (0, 1, 20, 23)),\n",
    "    ((0, 1, 20, 23), (49, 50)),\n",
    "    ((49, 50), (51, 50)),\n",
    "    ((51, 50), (51, 52)),\n",
    "    ((51, 52), (48, 38, 36, 52, 24, 27, 63, 67)),\n",
    "    ((36, 37), (48, 38, 36, 52, 24, 27, 63, 67)),\n",
    "    ((36, 37), (0, 1, 20, 23)),\n",
    "    ((0, 15), (0, 1, 20, 23)),\n",
    "    ((0, 15), (14, 15)),\n",
    ")"
   ]
  },
  {
   "cell_type": "code",
   "execution_count": null,
   "id": "f846ec06-ec0d-458f-8b27-7d52d5db3590",
   "metadata": {
    "tags": []
   },
   "outputs": [],
   "source": [
    "final_points = []\n",
    "\n",
    "for index_1, index_2 in lines:\n",
    "    x, y = get_intersection(df, index_1, index_2)\n",
    "    final_points.append((x, y))"
   ]
  },
  {
   "cell_type": "code",
   "execution_count": null,
   "id": "dca1ef29-2bd9-4836-8d58-aa3dd1ebb528",
   "metadata": {
    "tags": []
   },
   "outputs": [],
   "source": [
    "final_points"
   ]
  },
  {
   "cell_type": "code",
   "execution_count": null,
   "id": "bdb7648a-2e47-4d81-9c80-eac93501e545",
   "metadata": {
    "tags": []
   },
   "outputs": [],
   "source": [
    "final_points_centered = []\n",
    "\n",
    "for x, y in final_points:\n",
    "    x -= x_mean\n",
    "    y -= y_mean\n",
    "    final_points_centered.append((x, y))"
   ]
  },
  {
   "cell_type": "markdown",
   "id": "4cb9bd13-1d65-4d8d-be93-6561bd7ca958",
   "metadata": {},
   "source": [
    "## Latex Output"
   ]
  },
  {
   "cell_type": "code",
   "execution_count": null,
   "id": "3587b72d-9ab1-4175-86a7-98e5ef9209b1",
   "metadata": {
    "tags": []
   },
   "outputs": [],
   "source": [
    "BASENAME = \"ninja_star\""
   ]
  },
  {
   "cell_type": "code",
   "execution_count": null,
   "id": "67821095-5e22-4ccd-806c-6371c6a7dc7f",
   "metadata": {
    "tags": []
   },
   "outputs": [],
   "source": [
    "!rm -f {BASENAME + \".pdf\"} {BASENAME + \".aux\"} {BASENAME + \".log\"} {BASENAME + \".tex\"}"
   ]
  },
  {
   "cell_type": "code",
   "execution_count": null,
   "id": "a3466589-2d5d-4aaf-acba-0b2b932357f8",
   "metadata": {
    "tags": []
   },
   "outputs": [],
   "source": [
    "points = [f\"({x}, {y})\" for x, y in final_points_centered]\n",
    "points.append(\"cycle\")\n",
    "m_shape = \"\\\\filldraw[black] \" + \" -- \".join(points) + \";\""
   ]
  },
  {
   "cell_type": "code",
   "execution_count": null,
   "id": "431d08d5-932a-4558-8c5d-f8856f633f0e",
   "metadata": {
    "tags": []
   },
   "outputs": [],
   "source": [
    "TEMPLATE_BEGIN = r\"\"\"\\documentclass{article}\n",
    "\n",
    "\\usepackage[utf8]{inputenc}\n",
    "\\usepackage[a4paper, left=2cm, right=2cm, landscape]{geometry}\n",
    "\\usepackage{tikz}\n",
    "\n",
    "\\pagestyle{empty}\n",
    "\n",
    "\\begin{document}\n",
    "\n",
    "\\begin{tikzpicture}\n",
    "\n",
    "\\tikzset{\n",
    "  m_shape/.pic={\n",
    "\"\"\"\n",
    "\n",
    "BEGIN_END = \"\"\"\n",
    "  }\n",
    "}\n",
    "\n",
    "\\pic at (0,0) {m_shape};\n",
    "\\pic at (0,0) [rotate=90] {m_shape};\n",
    "\\pic at (0,0) [rotate=180] {m_shape};\n",
    "\\pic at (0,0) [rotate=270] {m_shape};\n",
    "\\end{tikzpicture}\n",
    "\n",
    "\\end{document}\n",
    "\"\"\""
   ]
  },
  {
   "cell_type": "code",
   "execution_count": null,
   "id": "4c4a9b5a-7d60-4345-bc6a-e3241eb93f62",
   "metadata": {
    "tags": []
   },
   "outputs": [],
   "source": [
    "latex_content = TEMPLATE_BEGIN + m_shape + BEGIN_END"
   ]
  },
  {
   "cell_type": "code",
   "execution_count": null,
   "id": "d050d808-bbfe-44d1-8151-830583ea99b0",
   "metadata": {
    "tags": []
   },
   "outputs": [],
   "source": [
    "with open(BASENAME + \".tex\", \"w\") as output:\n",
    "    output.write(latex_content)"
   ]
  },
  {
   "cell_type": "code",
   "execution_count": null,
   "id": "33e82b11-e020-4a15-89b3-2f451b29378e",
   "metadata": {
    "tags": []
   },
   "outputs": [],
   "source": [
    "!pdflatex {BASENAME + \".tex\"}"
   ]
  }
 ],
 "metadata": {
  "kernelspec": {
   "display_name": "Python 3 (ipykernel)",
   "language": "python",
   "name": "python3"
  },
  "language_info": {
   "codemirror_mode": {
    "name": "ipython",
    "version": 3
   },
   "file_extension": ".py",
   "mimetype": "text/x-python",
   "name": "python",
   "nbconvert_exporter": "python",
   "pygments_lexer": "ipython3",
   "version": "3.8.10"
  }
 },
 "nbformat": 4,
 "nbformat_minor": 5
}
